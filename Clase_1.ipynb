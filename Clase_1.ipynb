{
  "nbformat": 4,
  "nbformat_minor": 0,
  "metadata": {
    "colab": {
      "provenance": [],
      "collapsed_sections": [
        "drS3bKH59VvQ"
      ],
      "authorship_tag": "ABX9TyMOSu4CeCDTS3scr1UqF0pw",
      "include_colab_link": true
    },
    "kernelspec": {
      "name": "python3",
      "display_name": "Python 3"
    },
    "language_info": {
      "name": "python"
    }
  },
  "cells": [
    {
      "cell_type": "markdown",
      "metadata": {
        "id": "view-in-github",
        "colab_type": "text"
      },
      "source": [
        "<a href=\"https://colab.research.google.com/github/Alex-Doring/Clases-Machine-Learning/blob/main/Clase_1.ipynb\" target=\"_parent\"><img src=\"https://colab.research.google.com/assets/colab-badge.svg\" alt=\"Open In Colab\"/></a>"
      ]
    },
    {
      "cell_type": "markdown",
      "source": [
        "#Nota clase: Introducion a phyton"
      ],
      "metadata": {
        "id": "e2wow6axBB49"
      }
    },
    {
      "cell_type": "markdown",
      "source": [
        "##Conceptos"
      ],
      "metadata": {
        "id": "drS3bKH59VvQ"
      }
    },
    {
      "cell_type": "code",
      "execution_count": null,
      "metadata": {
        "colab": {
          "base_uri": "https://localhost:8080/"
        },
        "id": "ckvwfvOxA2HF",
        "outputId": "fc3853b0-ad94-426c-8b00-4397eee7a929"
      },
      "outputs": [
        {
          "output_type": "stream",
          "name": "stdout",
          "text": [
            "Hola mundo\n"
          ]
        }
      ],
      "source": [
        "#Sintaxis basica\n",
        "print(\"Hola mundo\")"
      ]
    },
    {
      "cell_type": "code",
      "source": [
        "#Variables\n",
        "nombre = \"Alan\"\n",
        "edad = 25"
      ],
      "metadata": {
        "id": "-stJB4_TBjsU"
      },
      "execution_count": null,
      "outputs": []
    },
    {
      "cell_type": "code",
      "source": [
        "print(nombre)"
      ],
      "metadata": {
        "colab": {
          "base_uri": "https://localhost:8080/"
        },
        "id": "SYR5dY95Btdl",
        "outputId": "510b5127-46eb-4cda-ba7d-6f7394cfe2ca"
      },
      "execution_count": null,
      "outputs": [
        {
          "output_type": "stream",
          "name": "stdout",
          "text": [
            "Alan\n"
          ]
        }
      ]
    },
    {
      "cell_type": "code",
      "source": [
        "print(edad)"
      ],
      "metadata": {
        "colab": {
          "base_uri": "https://localhost:8080/"
        },
        "id": "biNoe1JbByWg",
        "outputId": "3560cb72-b0ca-4e58-842d-bdc34ad37e63"
      },
      "execution_count": null,
      "outputs": [
        {
          "output_type": "stream",
          "name": "stdout",
          "text": [
            "25\n"
          ]
        }
      ]
    },
    {
      "cell_type": "code",
      "source": [
        "#Datos basicos\n",
        "# int numeros enteros\n",
        "entero = 10\n",
        "# float numeros decimales\n",
        "decimal = 3.1416\n",
        "# str cadenas de texto\n",
        "texto = \"intersemestral\"\n",
        "# bool valores logicos (True) False)\n",
        "logico = True\n",
        "booleano = False"
      ],
      "metadata": {
        "id": "ZTIERDdkCneH"
      },
      "execution_count": null,
      "outputs": []
    },
    {
      "cell_type": "code",
      "source": [
        "# operadores\n",
        "suma = 5 + 3\n",
        "restar = 5 - 3\n",
        "multiplicacion = 5 * 3\n",
        "division = 5 / 3\n",
        "division_entera = 5 // 3\n",
        "potencia = 5 ** 3\n",
        "modulo = 5 % 3"
      ],
      "metadata": {
        "id": "X_NSN6uvz564"
      },
      "execution_count": null,
      "outputs": []
    },
    {
      "cell_type": "code",
      "source": [
        "print(suma)\n",
        "print(restar)\n",
        "print(multiplicacion)\n",
        "print(division)\n",
        "print(division_entera)\n",
        "print(modulo)"
      ],
      "metadata": {
        "colab": {
          "base_uri": "https://localhost:8080/"
        },
        "id": "TNpkYwmm16Df",
        "outputId": "3fba76f5-1db5-4bd6-cc7a-15b395efd594"
      },
      "execution_count": null,
      "outputs": [
        {
          "output_type": "stream",
          "name": "stdout",
          "text": [
            "8\n",
            "2\n",
            "15\n",
            "1.6666666666666667\n",
            "1\n",
            "2\n"
          ]
        }
      ]
    },
    {
      "cell_type": "code",
      "source": [
        "#Operadores relacionales\n",
        "print(5 > 3) #true\n",
        "print(5 == 3) #false\n",
        "print(5 <= 5) #true"
      ],
      "metadata": {
        "colab": {
          "base_uri": "https://localhost:8080/"
        },
        "id": "Z_zO8wub2sNg",
        "outputId": "70154ff6-0ab5-4009-f839-617efa036b2f"
      },
      "execution_count": null,
      "outputs": [
        {
          "output_type": "stream",
          "name": "stdout",
          "text": [
            "True\n",
            "False\n",
            "True\n"
          ]
        }
      ]
    },
    {
      "cell_type": "code",
      "source": [
        "#Opreadores logicos\n",
        "\n",
        "print(True and False) #falso\n",
        "print(True or False) #true\n",
        "print(not True) #Falso"
      ],
      "metadata": {
        "colab": {
          "base_uri": "https://localhost:8080/"
        },
        "id": "og6W0qiG2S92",
        "outputId": "cf3ea0b0-6ab3-4866-ac3a-88939a72b303"
      },
      "execution_count": null,
      "outputs": [
        {
          "output_type": "stream",
          "name": "stdout",
          "text": [
            "False\n",
            "True\n",
            "False\n"
          ]
        }
      ]
    },
    {
      "cell_type": "code",
      "source": [
        "# Estructuras de control\n",
        "# condiciones permiten tomar desiciones basadas en condiciones\n",
        "\n",
        "if edad >= 18:\n",
        "  print(\"Eres mayor de edad\")\n",
        "  print(\"Puedes beber\")\n",
        "else:\n",
        "  print(\"Eres menor de edad\")"
      ],
      "metadata": {
        "colab": {
          "base_uri": "https://localhost:8080/",
          "height": 211
        },
        "id": "WEdR_iiE3kq-",
        "outputId": "f8100139-8ea8-466c-f5a8-47e8f8a242c0"
      },
      "execution_count": null,
      "outputs": [
        {
          "output_type": "error",
          "ename": "NameError",
          "evalue": "name 'edad' is not defined",
          "traceback": [
            "\u001b[0;31m---------------------------------------------------------------------------\u001b[0m",
            "\u001b[0;31mNameError\u001b[0m                                 Traceback (most recent call last)",
            "\u001b[0;32m<ipython-input-7-6e73c65157f8>\u001b[0m in \u001b[0;36m<cell line: 0>\u001b[0;34m()\u001b[0m\n\u001b[1;32m      2\u001b[0m \u001b[0;31m# condiciones permiten tomar desiciones basadas en condiciones\u001b[0m\u001b[0;34m\u001b[0m\u001b[0;34m\u001b[0m\u001b[0m\n\u001b[1;32m      3\u001b[0m \u001b[0;34m\u001b[0m\u001b[0m\n\u001b[0;32m----> 4\u001b[0;31m \u001b[0;32mif\u001b[0m \u001b[0medad\u001b[0m \u001b[0;34m>=\u001b[0m \u001b[0;36m18\u001b[0m\u001b[0;34m:\u001b[0m\u001b[0;34m\u001b[0m\u001b[0;34m\u001b[0m\u001b[0m\n\u001b[0m\u001b[1;32m      5\u001b[0m   \u001b[0mprint\u001b[0m\u001b[0;34m(\u001b[0m\u001b[0;34m\"Eres mayor de edad\"\u001b[0m\u001b[0;34m)\u001b[0m\u001b[0;34m\u001b[0m\u001b[0;34m\u001b[0m\u001b[0m\n\u001b[1;32m      6\u001b[0m   \u001b[0mprint\u001b[0m\u001b[0;34m(\u001b[0m\u001b[0;34m\"Puedes beber\"\u001b[0m\u001b[0;34m)\u001b[0m\u001b[0;34m\u001b[0m\u001b[0;34m\u001b[0m\u001b[0m\n",
            "\u001b[0;31mNameError\u001b[0m: name 'edad' is not defined"
          ]
        }
      ]
    },
    {
      "cell_type": "code",
      "source": [
        "# Bucle for que se utiliza sobre una secuancia (Listas, Rangos, etc.)\n",
        "\n",
        "for i in range(10):\n",
        "  print(i)"
      ],
      "metadata": {
        "colab": {
          "base_uri": "https://localhost:8080/"
        },
        "id": "cV25v9KS4kbX",
        "outputId": "26241635-a151-43a9-ecb7-1962816d94d0"
      },
      "execution_count": null,
      "outputs": [
        {
          "output_type": "stream",
          "name": "stdout",
          "text": [
            "0\n",
            "1\n",
            "2\n",
            "3\n",
            "4\n",
            "5\n",
            "6\n",
            "7\n",
            "8\n",
            "9\n"
          ]
        }
      ]
    },
    {
      "cell_type": "code",
      "source": [
        "# Bucle while repite mientras una condicion sea verdadera\n",
        "contador = 0\n",
        "while contador < 5:\n",
        "  print(contador)\n",
        "  contador += 1"
      ],
      "metadata": {
        "colab": {
          "base_uri": "https://localhost:8080/"
        },
        "id": "SvTBLPjb69vX",
        "outputId": "c7b41bd7-f663-422a-c92b-9cce34210cd3"
      },
      "execution_count": null,
      "outputs": [
        {
          "output_type": "stream",
          "name": "stdout",
          "text": [
            "0\n",
            "1\n",
            "2\n",
            "3\n",
            "4\n"
          ]
        }
      ]
    },
    {
      "cell_type": "markdown",
      "source": [
        "##**Ejercicio Practico.**\n",
        "\n",
        "**Problema.** Escribe un programa que:\n",
        "1. Solicite al usuario su nombre y edad.\n",
        "2. Determine si es mayor o menor de edad\n",
        "3. imprima un mensaje personalizado."
      ],
      "metadata": {
        "id": "0KDUKX9V7eYH"
      }
    },
    {
      "cell_type": "code",
      "source": [
        "# Problema\n",
        "name = input(\"Introduce tu nombre:\")\n",
        "date = int(input(\"Introduce tu edad:\"))\n",
        "if edad >= 18:\n",
        "  print(f\"Hola {name}, eres mayor de edad.\")\n",
        "else:\n",
        "  print(f\"Hola {name}, eres menor de edad\")\n"
      ],
      "metadata": {
        "id": "CEA0GowW7dl7",
        "colab": {
          "base_uri": "https://localhost:8080/"
        },
        "outputId": "a4718130-58c6-4424-c269-5f81be10dc15"
      },
      "execution_count": null,
      "outputs": [
        {
          "output_type": "stream",
          "name": "stdout",
          "text": [
            "Introduce tu nombre:ERICK\n",
            "Introduce tu edad:25\n",
            "Hola ERICK, eres mayor de edad.\n"
          ]
        }
      ]
    }
  ]
}