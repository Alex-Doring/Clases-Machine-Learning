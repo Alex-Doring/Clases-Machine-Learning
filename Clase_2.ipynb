{
  "nbformat": 4,
  "nbformat_minor": 0,
  "metadata": {
    "colab": {
      "provenance": [],
      "authorship_tag": "ABX9TyN0Qg89KFlDXIoEBgEsPSGy",
      "include_colab_link": true
    },
    "kernelspec": {
      "name": "python3",
      "display_name": "Python 3"
    },
    "language_info": {
      "name": "python"
    }
  },
  "cells": [
    {
      "cell_type": "markdown",
      "metadata": {
        "id": "view-in-github",
        "colab_type": "text"
      },
      "source": [
        "<a href=\"https://colab.research.google.com/github/Alex-Doring/Clases-Machine-Learning/blob/main/Clase_2.ipynb\" target=\"_parent\"><img src=\"https://colab.research.google.com/assets/colab-badge.svg\" alt=\"Open In Colab\"/></a>"
      ]
    },
    {
      "cell_type": "markdown",
      "source": [
        "#Clase 2"
      ],
      "metadata": {
        "id": "U5Fss7lO-Waw"
      }
    },
    {
      "cell_type": "code",
      "execution_count": 1,
      "metadata": {
        "colab": {
          "base_uri": "https://localhost:8080/"
        },
        "id": "fmQL48Xr-U9O",
        "outputId": "36db130e-2d3f-4cb4-8c51-ded5e85a79b5"
      },
      "outputs": [
        {
          "output_type": "stream",
          "name": "stdout",
          "text": [
            "\n",
            "  Esta funcion calcula la suma de dos numeros.\n",
            "\n",
            "  Parametros:\n",
            "  a (int o float): Primer elemento.\n",
            "  b (int o float): Segundo elemento.\n",
            "\n",
            "  Esta función retorna:\n",
            "  int o float: Resultado de la suma a y b.\n",
            "\n",
            "  \n"
          ]
        }
      ],
      "source": [
        "def suma(a,b):\n",
        "  \"\"\"\n",
        "  Esta funcion calcula la suma de dos numeros.\n",
        "\n",
        "  Parametros:\n",
        "  a (int o float): Primer elemento.\n",
        "  b (int o float): Segundo elemento.\n",
        "\n",
        "  Esta función retorna:\n",
        "  int o float: Resultado de la suma a y b.\n",
        "\n",
        "  \"\"\"\n",
        "  return a + b\n",
        "#Acceder al doctring\n",
        "print(suma.__doc__)"
      ]
    },
    {
      "cell_type": "code",
      "source": [
        "#Controles de Flujo\n",
        "\n",
        "print(\"\"\" el control de flujo permite dirigir la ejecucion del programa basandose en condiciones o repeticiones\"\"\")"
      ],
      "metadata": {
        "colab": {
          "base_uri": "https://localhost:8080/"
        },
        "id": "xs5pAV5iLehP",
        "outputId": "bc1f77ed-2654-4ba3-b2cf-6d9f95252c61"
      },
      "execution_count": null,
      "outputs": [
        {
          "output_type": "stream",
          "name": "stdout",
          "text": [
            " el control de flujo permite dirigir la ejecucion del programa basandose en condiciones o repeticiones\n"
          ]
        }
      ]
    },
    {
      "cell_type": "code",
      "source": [
        "#Ejemplo\n",
        "edad = int(input(\"Introduce tu edad:\"))\n",
        "if edad < 18:\n",
        "  print(\"Menor de edad\")\n",
        "elif 18 <= edad < 65:\n",
        "  print(\"Adulto\")\n",
        "else:\n",
        "  print(\"Adulto mayor\")"
      ],
      "metadata": {
        "colab": {
          "base_uri": "https://localhost:8080/"
        },
        "id": "3dyD6pnrMSN2",
        "outputId": "0421f82e-1225-49ac-eb23-00112b401357"
      },
      "execution_count": null,
      "outputs": [
        {
          "output_type": "stream",
          "name": "stdout",
          "text": [
            "Introduce tu edad:72\n",
            "Adulto mayor\n"
          ]
        }
      ]
    },
    {
      "cell_type": "markdown",
      "source": [
        "##Listas\n",
        "Una lista en phyton es una estructura de datos que permite alamacenar multiples elementos ordenados. Es una colección mutable, lo que significa que sus elementos pueden ser modificados (agregar, eliminar o cambiar elementos), despues de su creación.\n",
        "\n",
        "###Caracteristicas\n",
        "-Ordenadas: Los elementos tienen un indice que comienza en 0. -Mutables: Pueden modificar su contenido. -Tipo de datos mixtos. Una lista puede contener diferentes tipos de datos. -Representación:Se delimitan por corchetes [] y los elementos están separados por comas."
      ],
      "metadata": {
        "id": "CMFHP5MkM8ro"
      }
    },
    {
      "cell_type": "code",
      "source": [
        "#Ejemplo de una lista\n",
        "mi_lista = [1, 2, 3.1, \"intersemestral\", True]\n",
        "\n",
        "print(mi_lista[0])"
      ],
      "metadata": {
        "colab": {
          "base_uri": "https://localhost:8080/"
        },
        "id": "tOQC3j6KOYoT",
        "outputId": "5b440e31-2465-4ae2-ee91-c2a010c00828"
      },
      "execution_count": null,
      "outputs": [
        {
          "output_type": "stream",
          "name": "stdout",
          "text": [
            "1\n"
          ]
        }
      ]
    },
    {
      "cell_type": "code",
      "source": [
        "# Modificar un elemento de mi lista\n",
        "mi_lista[2] = \"python\"\n",
        "\n",
        "print(mi_lista)"
      ],
      "metadata": {
        "colab": {
          "base_uri": "https://localhost:8080/"
        },
        "id": "xXhr1gXEO2nh",
        "outputId": "ce6a3208-a26e-482a-ed7f-8116e29654b9"
      },
      "execution_count": null,
      "outputs": [
        {
          "output_type": "stream",
          "name": "stdout",
          "text": [
            "[1, 2, 'python', 'intersemestral', True, 2.2, 2.2, True, False, 2.2, True, False, 2.2, 2.2]\n"
          ]
        }
      ]
    },
    {
      "cell_type": "code",
      "source": [
        "# Agregar un elemento\n",
        "mi_lista.append(2.2)\n",
        "\n",
        "print(mi_lista)"
      ],
      "metadata": {
        "colab": {
          "base_uri": "https://localhost:8080/"
        },
        "id": "JEo2VtJ8PF5N",
        "outputId": "95d71403-deb9-4068-952f-76bf4fed5e8b"
      },
      "execution_count": null,
      "outputs": [
        {
          "output_type": "stream",
          "name": "stdout",
          "text": [
            "[1, 2, 'python', 'intersemestral', True, 2.2, 2.2, True, False, 2.2, True, False, 2.2, 2.2, 2.2, True, False, 2.2, 2.2]\n"
          ]
        }
      ]
    },
    {
      "cell_type": "code",
      "source": [
        "# Agregar un elemento\n",
        "\n",
        "mi_lista.append(2.2)\n",
        "\n",
        "print(mi_lista)"
      ],
      "metadata": {
        "colab": {
          "base_uri": "https://localhost:8080/"
        },
        "id": "tQiFDPF5T3By",
        "outputId": "7f70e7c8-1704-45c3-9aa5-aa3c11a5390f"
      },
      "execution_count": null,
      "outputs": [
        {
          "output_type": "stream",
          "name": "stdout",
          "text": [
            "[2, 'python', 'intersemestral', False, False, True, False, 2.2]\n"
          ]
        }
      ]
    },
    {
      "cell_type": "code",
      "source": [
        "print(mi_lista)"
      ],
      "metadata": {
        "colab": {
          "base_uri": "https://localhost:8080/"
        },
        "id": "S2h_9L9sUC8p",
        "outputId": "878a6942-ed97-4987-b8b3-a99e0795a88a"
      },
      "execution_count": null,
      "outputs": [
        {
          "output_type": "stream",
          "name": "stdout",
          "text": [
            "[1, 2, 'python', 'intersemestral', True, 2.2, 2.2, True, False, 2.2, True, False, 2.2, 2.2, 2.2, True, False, 2.2, 2.2, 2.2]\n"
          ]
        }
      ]
    },
    {
      "cell_type": "code",
      "source": [
        "mi_lista.append(True)\n",
        "\n",
        "mi_lista.append(False)\n",
        "\n",
        "print(mi_lista)"
      ],
      "metadata": {
        "colab": {
          "base_uri": "https://localhost:8080/"
        },
        "id": "-D9OdQXWUI7V",
        "outputId": "d43e6ea0-565f-4d9e-a455-c7b72703642e"
      },
      "execution_count": null,
      "outputs": [
        {
          "output_type": "stream",
          "name": "stdout",
          "text": [
            "[2, 'python', 'intersemestral', False, 2.2, True, False]\n"
          ]
        }
      ]
    },
    {
      "cell_type": "code",
      "source": [
        "# Eliminar\n",
        "\n",
        "mi_lista.remove(True)\n",
        "\n",
        "print(mi_lista)"
      ],
      "metadata": {
        "colab": {
          "base_uri": "https://localhost:8080/"
        },
        "id": "bX758G-YUMIY",
        "outputId": "c54ed5b4-f106-488a-e0e6-e5fee40aeac1"
      },
      "execution_count": null,
      "outputs": [
        {
          "output_type": "stream",
          "name": "stdout",
          "text": [
            "[2, 'python', 'intersemestral', 2.2]\n"
          ]
        }
      ]
    },
    {
      "cell_type": "code",
      "source": [
        "# Eliminar\n",
        "\n",
        "mi_lista.remove(False)\n",
        "\n",
        "print(mi_lista)"
      ],
      "metadata": {
        "colab": {
          "base_uri": "https://localhost:8080/"
        },
        "id": "rCjllXaqUQPH",
        "outputId": "a11b01ba-76e5-407a-ccb0-528a7c2139ad"
      },
      "execution_count": null,
      "outputs": [
        {
          "output_type": "stream",
          "name": "stdout",
          "text": [
            "[2, 'python', 'intersemestral', 2.2, True]\n"
          ]
        }
      ]
    },
    {
      "cell_type": "code",
      "source": [
        "# Longitud de la lista\n",
        "\n",
        "print(len(mi_lista))"
      ],
      "metadata": {
        "colab": {
          "base_uri": "https://localhost:8080/"
        },
        "id": "iNHJgaNQUXoI",
        "outputId": "7bbb6fe5-0f03-4f9f-926c-66af9b81948e"
      },
      "execution_count": null,
      "outputs": [
        {
          "output_type": "stream",
          "name": "stdout",
          "text": [
            "4\n"
          ]
        }
      ]
    },
    {
      "cell_type": "markdown",
      "source": [
        "##Tuplas\n",
        "Una tupla en python es una estructura de datos que permite almacenar multiples elementos ordenados, pero es inmutable, lo que significa que no se puede modificar despues de su creación.\n",
        "\n",
        "-Ordenada. -Inmutable. -Tipos de datos mixtos -Representacion:Se define entre parentesis () y sus elementos estan separados por comas."
      ],
      "metadata": {
        "id": "ayOdW4CKVAPa"
      }
    },
    {
      "cell_type": "code",
      "source": [
        "# Tupla\n",
        "\n",
        "mi_tupla = (1, 2, 3.1,\"intersemestral\", True)\n",
        "\n",
        "print(mi_tupla)"
      ],
      "metadata": {
        "colab": {
          "base_uri": "https://localhost:8080/"
        },
        "id": "qJHJgyoJVtLk",
        "outputId": "023c96c6-5d9f-4cd6-c69a-313bab35b698"
      },
      "execution_count": null,
      "outputs": [
        {
          "output_type": "stream",
          "name": "stdout",
          "text": [
            "(1, 2, 3.1, 'intersemestral', True)\n"
          ]
        }
      ]
    },
    {
      "cell_type": "code",
      "source": [
        "# acceder a un elemento\n",
        "\n",
        "print(mi_tupla[0])"
      ],
      "metadata": {
        "colab": {
          "base_uri": "https://localhost:8080/"
        },
        "id": "lBrcD1IOWy5j",
        "outputId": "995489e9-7217-4183-f37a-c17916e5ca17"
      },
      "execution_count": null,
      "outputs": [
        {
          "output_type": "stream",
          "name": "stdout",
          "text": [
            "1\n"
          ]
        }
      ]
    },
    {
      "cell_type": "code",
      "source": [
        "# Longitud de la tupla\n",
        "print(len(mi_tupla))"
      ],
      "metadata": {
        "colab": {
          "base_uri": "https://localhost:8080/"
        },
        "id": "lZb5M8jeW86h",
        "outputId": "b706776b-3a02-4735-d717-f3c15940b2fd"
      },
      "execution_count": null,
      "outputs": [
        {
          "output_type": "stream",
          "name": "stdout",
          "text": [
            "5\n"
          ]
        }
      ]
    },
    {
      "cell_type": "markdown",
      "source": [
        "##Diccionarios\n",
        "\n",
        "Los Diccionarios son colecciones de pares clave-valor. Se utilian para almacenar datos de manera organizada, donde cada clave es unica y esta asociada a un valor.\n",
        "\n",
        "Los diccionarios son estructuras de datos. A diferencia de las lista y tuplas, los diccionaros no estan indexados por posiciones numericas, sino por claves que puedes ser de cualquier tipo inmutable\n",
        "\n",
        "Uso.\n",
        "\n",
        "-Representar datos estructurados, como registros o configuraciones. -Asociar identificadores unicos a valores."
      ],
      "metadata": {
        "id": "7XKBWnUMXEa_"
      }
    },
    {
      "cell_type": "code",
      "source": [
        "# Crear un diccionario.\n",
        "\n",
        "mi_diccionario = {\"nombre\" : \"Erick\", \"edad\" : 25, \"ciudad\" : \"México\"}\n",
        "\n",
        "print(mi_diccionario)"
      ],
      "metadata": {
        "colab": {
          "base_uri": "https://localhost:8080/"
        },
        "id": "cZUThyPJXKdb",
        "outputId": "046c5e75-c5a0-4566-e00c-64de8220aacb"
      },
      "execution_count": null,
      "outputs": [
        {
          "output_type": "stream",
          "name": "stdout",
          "text": [
            "{'nombre': 'Erick', 'edad': 25, 'ciudad': 'México'}\n"
          ]
        }
      ]
    },
    {
      "cell_type": "code",
      "source": [
        "print(mi_diccionario[\"edad\"])"
      ],
      "metadata": {
        "colab": {
          "base_uri": "https://localhost:8080/"
        },
        "id": "vWdWPxq4Xtb2",
        "outputId": "48eee2cb-9ae2-43b3-8cbd-55062b2bd694"
      },
      "execution_count": null,
      "outputs": [
        {
          "output_type": "stream",
          "name": "stdout",
          "text": [
            "25\n"
          ]
        }
      ]
    },
    {
      "cell_type": "code",
      "source": [
        "print(mi_diccionario[\"nombre\"])"
      ],
      "metadata": {
        "colab": {
          "base_uri": "https://localhost:8080/"
        },
        "id": "2LITlSyyX05G",
        "outputId": "cf1aa465-3322-49a0-d2c5-c0d915c4be10"
      },
      "execution_count": null,
      "outputs": [
        {
          "output_type": "stream",
          "name": "stdout",
          "text": [
            "Erick\n"
          ]
        }
      ]
    },
    {
      "cell_type": "code",
      "source": [
        "print(mi_diccionario[\"ciudad\"])"
      ],
      "metadata": {
        "colab": {
          "base_uri": "https://localhost:8080/"
        },
        "id": "BRZSlFWWX6KO",
        "outputId": "f60ce6a6-a047-4f98-b942-7b08404dcabb"
      },
      "execution_count": null,
      "outputs": [
        {
          "output_type": "stream",
          "name": "stdout",
          "text": [
            "México\n"
          ]
        }
      ]
    },
    {
      "cell_type": "code",
      "source": [
        "# Métodos comunes\n",
        "\n",
        "print(mi_diccionario.values())"
      ],
      "metadata": {
        "colab": {
          "base_uri": "https://localhost:8080/"
        },
        "id": "cmyRcaTqYARQ",
        "outputId": "1c567f01-2c86-44bd-fa20-c3d61e5ef600"
      },
      "execution_count": null,
      "outputs": [
        {
          "output_type": "stream",
          "name": "stdout",
          "text": [
            "dict_values(['Erick', 25, 'México'])\n"
          ]
        }
      ]
    },
    {
      "cell_type": "code",
      "source": [
        "mi_diccionario[\"edad\"] = 25\n",
        "\n",
        "print(mi_diccionario)"
      ],
      "metadata": {
        "colab": {
          "base_uri": "https://localhost:8080/"
        },
        "id": "cMTkjD9AZe7U",
        "outputId": "0862810f-4be8-4a48-a6c0-0077e736ae37"
      },
      "execution_count": null,
      "outputs": [
        {
          "output_type": "stream",
          "name": "stdout",
          "text": [
            "{'nombre': 'Erick', 'edad': 25, 'ciudad': 'México'}\n"
          ]
        }
      ]
    },
    {
      "cell_type": "code",
      "source": [
        "mi_diccionario[\"ciudad\"] = \"CDMX\"\n",
        "\n",
        "print(mi_diccionario)"
      ],
      "metadata": {
        "colab": {
          "base_uri": "https://localhost:8080/"
        },
        "id": "ClwesuaqZtem",
        "outputId": "4bb7c2ec-29eb-4dc1-dc82-c8433529992c"
      },
      "execution_count": null,
      "outputs": [
        {
          "output_type": "stream",
          "name": "stdout",
          "text": [
            "{'nombre': 'Erick', 'edad': 25, 'ciudad': 'CDMX'}\n"
          ]
        }
      ]
    },
    {
      "cell_type": "code",
      "source": [
        "mi_diccionario[\"nombre\"] = \"juan\"\n",
        "\n",
        "print(mi_diccionario)"
      ],
      "metadata": {
        "colab": {
          "base_uri": "https://localhost:8080/"
        },
        "id": "7C-lLzPgZxhm",
        "outputId": "4fbc8677-bd91-4c3e-d219-b722f1c9b63b"
      },
      "execution_count": null,
      "outputs": [
        {
          "output_type": "stream",
          "name": "stdout",
          "text": [
            "{'nombre': 'juan', 'edad': 25, 'ciudad': 'CDMX'}\n"
          ]
        }
      ]
    },
    {
      "cell_type": "markdown",
      "source": [
        "##Modulos y paquetes\n",
        "Un módulo es un archivo de python que contiene definiciones y declaraciones que pueden ser reutilizas en otros programas. Un paquete es una coleccion de modulos organizados en directorios.\n",
        "\n",
        "Ventajas:\n",
        "\n",
        "-Fomenta la reutilizacion de codigo. -Facilita la organizacion de proyectos grandes. -Permite el uso de bibliotecas externas.\n",
        "\n",
        "Tipos de modulos:\n",
        "\n",
        "Modulos estandar: proporcionados por python, como math, os, random. Modulos personalizados: creadors por el usuario para funciones especificas. Bibliotecas externas: instaladas con la herramienta como pip."
      ],
      "metadata": {
        "id": "ZuelZXNCaI0r"
      }
    },
    {
      "cell_type": "code",
      "source": [
        "import math\n",
        "\n",
        "print(math.sqrt(16))"
      ],
      "metadata": {
        "colab": {
          "base_uri": "https://localhost:8080/"
        },
        "id": "Ru_jQrAmZvdY",
        "outputId": "bfb53a4e-884e-4586-8f18-05a5640afda8"
      },
      "execution_count": null,
      "outputs": [
        {
          "output_type": "stream",
          "name": "stdout",
          "text": [
            "4.0\n"
          ]
        }
      ]
    },
    {
      "cell_type": "code",
      "source": [
        "# mis_utilidades.py\n",
        "\n",
        "def sumar(a, b):\n",
        "   return a + b\n",
        "\n",
        "\"\"\"\n",
        "from mis utilidades import sumar\n",
        "\n",
        "print(sumar(5, 3))\n",
        "\"\"\""
      ],
      "metadata": {
        "colab": {
          "base_uri": "https://localhost:8080/",
          "height": 36
        },
        "id": "nUgYUMdCaSyP",
        "outputId": "f1415f43-f2cf-4fa9-c785-49c9cc267d81"
      },
      "execution_count": null,
      "outputs": [
        {
          "output_type": "execute_result",
          "data": {
            "text/plain": [
              "'\\nfrom mis utilidades import sumar\\n\\nprint(sumar(5, 3))\\n'"
            ],
            "application/vnd.google.colaboratory.intrinsic+json": {
              "type": "string"
            }
          },
          "metadata": {},
          "execution_count": 83
        }
      ]
    },
    {
      "cell_type": "markdown",
      "source": [
        "##POO Programacion Orientada a Objetos\n",
        "La POO es un paradigma que organiza el codigo en torno a objetos y clases. Permite modelar entidades del mundo real y sus interacciones.\n",
        "\n",
        "Conceptos fundamentales:\n",
        "\n",
        "-Clases: Plantillas para crear objetos, que definen atributos y comportamientos.. -Objetos: Instancias de una clase que tienen propiedades y metodos. -Encapsulamiento: Oculta lo detalles internos de un objeto y exponen solo lo necesarios. -Herencia: Permite crear nuevas clases basadas en clases existentes. -Polimorfismo: habilidad de los objetos para responder de manera diferente al mismo metodo.\n",
        "\n",
        "Beneficios.\n",
        "\n",
        "-Mejora la modularidad y reutilizacion de codigo. -Facilita el mantimiento y escalabilidad de proyectos."
      ],
      "metadata": {
        "id": "zY84Dr8aaVD0"
      }
    },
    {
      "cell_type": "code",
      "source": [
        "#Clase y Objeto\n",
        "class Persona:\n",
        "  def __init__(self, nombre, edad):\n",
        "    self.nombre = nombre\n",
        "    self.edad = edad\n",
        "\n",
        "  def saludar(self):\n",
        "      print(f\"Hola, me llamo {self.nombre} y tengo {self.edad} años\")\n",
        "\n",
        "persona1 = Persona(\"Erick\", 25)\n",
        "persona1.saludar()"
      ],
      "metadata": {
        "colab": {
          "base_uri": "https://localhost:8080/"
        },
        "id": "DoXm_1V6aUv4",
        "outputId": "4f5a7a6b-2f6a-4e49-b5f1-bfed1c0b36c1"
      },
      "execution_count": null,
      "outputs": [
        {
          "output_type": "stream",
          "name": "stdout",
          "text": [
            "Hola, me llamo Erick y tengo 25 años\n"
          ]
        }
      ]
    },
    {
      "cell_type": "code",
      "source": [
        "#Herencia\n",
        "\n",
        "class Estudiante(Persona):\n",
        "  def __init__(self, nombre, edad, nivel_de_poder):\n",
        "    super().__init__(nombre, edad)\n",
        "    self.nivel_de_poder = nivel_de_poder\n",
        "\n",
        "  def nivel(self):\n",
        "    print(f\"{self.nombre} tiene un nivel de poder {self.nivel_de_poder}.\")\n",
        "\n",
        "estudiante1 = Estudiante(\"Alan\", 25, \"nivel 2\")\n",
        "estudiante1.saludar()\n",
        "estudiante1.nivel()"
      ],
      "metadata": {
        "colab": {
          "base_uri": "https://localhost:8080/"
        },
        "id": "kXdvdqkJa-oj",
        "outputId": "9a496634-eb67-43cf-a648-d967ce5cce8f"
      },
      "execution_count": null,
      "outputs": [
        {
          "output_type": "stream",
          "name": "stdout",
          "text": [
            "Hola, me llamo Alan y tengo 25 años\n",
            "Alan tiene un nivel de poder nivel 2.\n"
          ]
        }
      ]
    }
  ]
}