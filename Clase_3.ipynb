{
  "nbformat": 4,
  "nbformat_minor": 0,
  "metadata": {
    "colab": {
      "provenance": [],
      "authorship_tag": "ABX9TyOaO9RSF4JUoyYpwDrmMJig",
      "include_colab_link": true
    },
    "kernelspec": {
      "name": "python3",
      "display_name": "Python 3"
    },
    "language_info": {
      "name": "python"
    }
  },
  "cells": [
    {
      "cell_type": "markdown",
      "metadata": {
        "id": "view-in-github",
        "colab_type": "text"
      },
      "source": [
        "<a href=\"https://colab.research.google.com/github/Alex-Doring/Clases-Machine-Learning/blob/main/Clase_3.ipynb\" target=\"_parent\"><img src=\"https://colab.research.google.com/assets/colab-badge.svg\" alt=\"Open In Colab\"/></a>"
      ]
    },
    {
      "cell_type": "markdown",
      "source": [
        "#Espacios Vectoriales Euclidianos\n",
        "##Ejemplos con Python\n",
        "###Ejemplo 1: Cálculo del Producto Escalar"
      ],
      "metadata": {
        "id": "IxXwG5WqbuxC"
      }
    },
    {
      "cell_type": "code",
      "execution_count": null,
      "metadata": {
        "colab": {
          "base_uri": "https://localhost:8080/"
        },
        "id": "M5R4Bs4UbgSv",
        "outputId": "50f5c412-335e-42dd-cd84-06747f8f1978"
      },
      "outputs": [
        {
          "output_type": "stream",
          "name": "stdout",
          "text": [
            "El producto escalar de u y v es: 32\n"
          ]
        }
      ],
      "source": [
        "import numpy as np\n",
        "\n",
        "# Definimos dos vectores\n",
        "u = np.array([1, 2, 3])\n",
        "v = np.array([4, 5, 6])\n",
        "\n",
        "# Calculamos el producto escalar\n",
        "producto_escalar = np.dot(u, v)\n",
        "print(\"El producto escalar de u y v es:\", producto_escalar)"
      ]
    },
    {
      "cell_type": "markdown",
      "source": [
        "###Ejemplo 2: Cálculo de la Norma de un Vector"
      ],
      "metadata": {
        "id": "oOzdTVH2b1ZZ"
      }
    },
    {
      "cell_type": "code",
      "source": [
        "import numpy as np\n",
        "\n",
        "# Definimos un vector\n",
        "u = np.array([1, 2, 3])\n",
        "\n",
        "# Calculamos la norma del vector\n",
        "norma = np.linalg.norm(u)\n",
        "print(\"La norma de u es:\", norma)"
      ],
      "metadata": {
        "colab": {
          "base_uri": "https://localhost:8080/"
        },
        "id": "wAcFF4XmbsJ0",
        "outputId": "1ec32bf3-98a4-41ba-faed-aa3473dc6874"
      },
      "execution_count": null,
      "outputs": [
        {
          "output_type": "stream",
          "name": "stdout",
          "text": [
            "La norma de u es: 3.7416573867739413\n"
          ]
        }
      ]
    },
    {
      "cell_type": "markdown",
      "source": [
        "###Ejemplo 3: Proyección Ortogonal de un Vector sobre Otro"
      ],
      "metadata": {
        "id": "lE0UK4Kqb61t"
      }
    },
    {
      "cell_type": "code",
      "source": [
        "import numpy as np\n",
        "\n",
        "# Definimos dos vectores\n",
        "u = np.array([1, 2, 3])\n",
        "v = np.array([4, 0, 0])\n",
        "\n",
        "# Calculamos la proyección ortogonal de u sobre v\n",
        "proyeccion = np.dot(u, v) / np.dot(v, v) * v\n",
        "print(\"La proyección ortogonal de u sobre v es:\", proyeccion)"
      ],
      "metadata": {
        "colab": {
          "base_uri": "https://localhost:8080/"
        },
        "id": "h5mcqMGib8k7",
        "outputId": "7aae9447-76ca-4dfa-cbe3-c401331c2671"
      },
      "execution_count": null,
      "outputs": [
        {
          "output_type": "stream",
          "name": "stdout",
          "text": [
            "La proyección ortogonal de u sobre v es: [1. 0. 0.]\n"
          ]
        }
      ]
    },
    {
      "cell_type": "markdown",
      "source": [
        "###Ejemplo 4: Base Ortonormal utilizando el Proceso de Gram-Schmidt"
      ],
      "metadata": {
        "id": "FtfHvvsOb_kV"
      }
    },
    {
      "cell_type": "code",
      "source": [
        "import numpy as np\n",
        "\n",
        "def gram_schmidt(V):\n",
        "    # Inicializamos una lista para almacenar los vectores ortonormales\n",
        "    U = []\n",
        "    for v in V:\n",
        "        # Proyectamos v sobre cada vector ortonormal en U\n",
        "        for u in U:\n",
        "            v = v - np.dot(v, u) * u\n",
        "        # Normalizamos el vector\n",
        "        v = v / np.linalg.norm(v)\n",
        "        # Añadimos el vector ortonormal a U\n",
        "        U.append(v)\n",
        "    return np.array(U)\n",
        "\n",
        "# Definimos un conjunto de vectores linealmente independientes\n",
        "V = np.array([[1, 1, 0], [1, 0, 1], [0, 1, 1]])\n",
        "\n",
        "# Calculamos la base ortonormal utilizando el proceso de Gram-Schmidt\n",
        "U = gram_schmidt(V)\n",
        "print(\"La base ortonormal es:\")\n",
        "print(U)"
      ],
      "metadata": {
        "colab": {
          "base_uri": "https://localhost:8080/"
        },
        "id": "tsM_rStPcBdf",
        "outputId": "31b6d4a9-ea4a-4c8b-a425-7478644cccd2"
      },
      "execution_count": null,
      "outputs": [
        {
          "output_type": "stream",
          "name": "stdout",
          "text": [
            "La base ortonormal es:\n",
            "[[ 0.70710678  0.70710678  0.        ]\n",
            " [ 0.40824829 -0.40824829  0.81649658]\n",
            " [-0.57735027  0.57735027  0.57735027]]\n"
          ]
        }
      ]
    }
  ]
}